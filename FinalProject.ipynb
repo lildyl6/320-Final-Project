{
 "cells": [
  {
   "cell_type": "code",
   "execution_count": 201,
   "id": "cb83dd55-f01a-49a3-8681-f6c541a5bbdf",
   "metadata": {},
   "outputs": [
    {
     "name": "stdout",
     "output_type": "stream",
     "text": [
      "Index(['tn_name', 'surface', 'w_name', 'w_hand', 'w_age', 'l_name', 'l_hand',\n",
      "       'l_age', 'score', 'minutes', 'tn_year', 'tn_month', 'tn_day'],\n",
      "      dtype='object')\n"
     ]
    },
    {
     "data": {
      "text/html": [
       "<div>\n",
       "<style scoped>\n",
       "    .dataframe tbody tr th:only-of-type {\n",
       "        vertical-align: middle;\n",
       "    }\n",
       "\n",
       "    .dataframe tbody tr th {\n",
       "        vertical-align: top;\n",
       "    }\n",
       "\n",
       "    .dataframe thead th {\n",
       "        text-align: right;\n",
       "    }\n",
       "</style>\n",
       "<table border=\"1\" class=\"dataframe\">\n",
       "  <thead>\n",
       "    <tr style=\"text-align: right;\">\n",
       "      <th></th>\n",
       "      <th>tn_name</th>\n",
       "      <th>surface</th>\n",
       "      <th>w_name</th>\n",
       "      <th>w_hand</th>\n",
       "      <th>w_age</th>\n",
       "      <th>l_name</th>\n",
       "      <th>l_hand</th>\n",
       "      <th>l_age</th>\n",
       "      <th>score</th>\n",
       "      <th>minutes</th>\n",
       "      <th>tn_year</th>\n",
       "      <th>tn_month</th>\n",
       "      <th>tn_day</th>\n",
       "    </tr>\n",
       "  </thead>\n",
       "  <tbody>\n",
       "    <tr>\n",
       "      <th>0</th>\n",
       "      <td>Atp Cup</td>\n",
       "      <td>Hard</td>\n",
       "      <td>Novak Djokovic</td>\n",
       "      <td>R</td>\n",
       "      <td>32.0</td>\n",
       "      <td>Rafael Nadal</td>\n",
       "      <td>L</td>\n",
       "      <td>33.0</td>\n",
       "      <td>6-2 7-6(4)</td>\n",
       "      <td>115.0</td>\n",
       "      <td>2020.0</td>\n",
       "      <td>1.0</td>\n",
       "      <td>6.0</td>\n",
       "    </tr>\n",
       "    <tr>\n",
       "      <th>1</th>\n",
       "      <td>Atp Cup</td>\n",
       "      <td>Hard</td>\n",
       "      <td>Roberto Bautista Agut</td>\n",
       "      <td>R</td>\n",
       "      <td>31.0</td>\n",
       "      <td>Dusan Lajovic</td>\n",
       "      <td>R</td>\n",
       "      <td>29.0</td>\n",
       "      <td>7-5 6-1</td>\n",
       "      <td>97.0</td>\n",
       "      <td>2020.0</td>\n",
       "      <td>1.0</td>\n",
       "      <td>6.0</td>\n",
       "    </tr>\n",
       "    <tr>\n",
       "      <th>2</th>\n",
       "      <td>Atp Cup</td>\n",
       "      <td>Hard</td>\n",
       "      <td>Novak Djokovic</td>\n",
       "      <td>R</td>\n",
       "      <td>32.0</td>\n",
       "      <td>Daniil Medvedev</td>\n",
       "      <td>R</td>\n",
       "      <td>23.0</td>\n",
       "      <td>6-1 5-7 6-4</td>\n",
       "      <td>167.0</td>\n",
       "      <td>2020.0</td>\n",
       "      <td>1.0</td>\n",
       "      <td>6.0</td>\n",
       "    </tr>\n",
       "    <tr>\n",
       "      <th>3</th>\n",
       "      <td>Atp Cup</td>\n",
       "      <td>Hard</td>\n",
       "      <td>Dusan Lajovic</td>\n",
       "      <td>R</td>\n",
       "      <td>29.0</td>\n",
       "      <td>Karen Khachanov</td>\n",
       "      <td>R</td>\n",
       "      <td>23.0</td>\n",
       "      <td>7-5 7-6(1)</td>\n",
       "      <td>108.0</td>\n",
       "      <td>2020.0</td>\n",
       "      <td>1.0</td>\n",
       "      <td>6.0</td>\n",
       "    </tr>\n",
       "    <tr>\n",
       "      <th>4</th>\n",
       "      <td>Atp Cup</td>\n",
       "      <td>Hard</td>\n",
       "      <td>Rafael Nadal</td>\n",
       "      <td>L</td>\n",
       "      <td>33.0</td>\n",
       "      <td>Alex De Minaur</td>\n",
       "      <td>R</td>\n",
       "      <td>20.0</td>\n",
       "      <td>4-6 7-5 6-1</td>\n",
       "      <td>133.0</td>\n",
       "      <td>2020.0</td>\n",
       "      <td>1.0</td>\n",
       "      <td>6.0</td>\n",
       "    </tr>\n",
       "  </tbody>\n",
       "</table>\n",
       "</div>"
      ],
      "text/plain": [
       "   tn_name surface                 w_name w_hand  w_age           l_name  \\\n",
       "0  Atp Cup    Hard         Novak Djokovic      R   32.0     Rafael Nadal   \n",
       "1  Atp Cup    Hard  Roberto Bautista Agut      R   31.0    Dusan Lajovic   \n",
       "2  Atp Cup    Hard         Novak Djokovic      R   32.0  Daniil Medvedev   \n",
       "3  Atp Cup    Hard          Dusan Lajovic      R   29.0  Karen Khachanov   \n",
       "4  Atp Cup    Hard           Rafael Nadal      L   33.0   Alex De Minaur   \n",
       "\n",
       "  l_hand  l_age        score  minutes  tn_year  tn_month  tn_day  \n",
       "0      L   33.0   6-2 7-6(4)    115.0   2020.0       1.0     6.0  \n",
       "1      R   29.0      7-5 6-1     97.0   2020.0       1.0     6.0  \n",
       "2      R   23.0  6-1 5-7 6-4    167.0   2020.0       1.0     6.0  \n",
       "3      R   23.0   7-5 7-6(1)    108.0   2020.0       1.0     6.0  \n",
       "4      R   20.0  4-6 7-5 6-1    133.0   2020.0       1.0     6.0  "
      ]
     },
     "execution_count": 201,
     "metadata": {},
     "output_type": "execute_result"
    }
   ],
   "source": [
    "import numpy as np\n",
    "import pandas as pd\n",
    "import matplotlib.pyplot as plt\n",
    "\n",
    "file = 'https://raw.githubusercontent.com/JeffSackmann/tennis_atp/master/atp_matches_2020.csv'\n",
    "\n",
    "table = pd.read_csv(file)\n",
    "\n",
    "# cleaning up the data to make it more readable\n",
    "for rank, row in table.iterrows():\n",
    "    #cleaning up date of match\n",
    "    date = table.at[rank, 'tourney_date']\n",
    "    \n",
    "    year = int(date/10000)\n",
    "    month = int(date/100)%1000\n",
    "    day = date%100\n",
    "\n",
    "    table.at[rank, 'tourney_year'] = int(year)\n",
    "    table.at[rank, 'tourney_month'] = int(month)\n",
    "    table.at[rank, 'tourney_day'] = int(day)\n",
    "    \n",
    "    #cleaning up ages\n",
    "    w_age = int(table.at[rank, 'winner_age'])\n",
    "    l_age = int(table.at[rank, 'loser_age'])\n",
    "    \n",
    "    table.at[rank, 'winner_age'] = w_age\n",
    "    table.at[rank, 'loser_age'] = l_age\n",
    "    \n",
    "    \n",
    "    \n",
    "# only keep important columns to make more readable\n",
    "table = table[['tourney_name', 'surface', 'winner_name', 'winner_hand', 'winner_age', \n",
    "               'loser_name', 'loser_hand', 'loser_age', 'score', 'minutes', 'tourney_year', \n",
    "               'tourney_month', 'tourney_day']]\n",
    "\n",
    "#rename to fit on screen\n",
    "table.rename(columns={'winner_name':'w_name', 'winner_hand':'w_hand', 'winner_age':'w_age',\n",
    "                        'loser_name':'l_name', 'loser_hand':'l_hand', 'loser_age':'l_age',\n",
    "                        'tourney_name':'tn_name', 'tourney_year':'tn_year', 'tourney_month':'tn_month',\n",
    "                         'tourney_day':'tn_day'}, inplace=True)\n",
    "print(table.columns)\n",
    "table.head()\n",
    "    \n"
   ]
  },
  {
   "cell_type": "code",
   "execution_count": 160,
   "id": "181a56ee-6853-4e21-9ae3-fc0ba8741e5f",
   "metadata": {},
   "outputs": [
    {
     "data": {
      "text/plain": [
       "<BarContainer object of 10 artists>"
      ]
     },
     "execution_count": 160,
     "metadata": {},
     "output_type": "execute_result"
    },
    {
     "data": {
      "image/png": "[encoded data removed]",
      "text/plain": [
       "<Figure size 1440x720 with 1 Axes>"
      ]
     },
     "metadata": {
      "needs_background": "light"
     },
     "output_type": "display_data"
    }
   ],
   "source": [
    "# Bar graph of the top 10 overall tournament winners\n",
    "\n",
    "top_dict = {}\n",
    "\n",
    "# getting all the players games won\n",
    "for rank, row in table.iterrows():\n",
    "    k = table.at[rank, 'w_name']\n",
    "    if k in top_dict:\n",
    "        top_dict[k] = top_dict[k] + 1\n",
    "    else:\n",
    "        top_dict[k] = 1\n",
    "        \n",
    "# sorting dictionary by games won\n",
    "top_dict = dict(reversed(sorted(top_dict.items(), key = lambda item: item[1])))\n",
    "\n",
    "# getting keys and values to plot\n",
    "names = list(top_dict.keys())\n",
    "games_won = list(top_dict.values())\n",
    "\n",
    "# getting top ten\n",
    "names = names[:10]\n",
    "games_won = games_won[:10]\n",
    "\n",
    "# formatting bar graph\n",
    "fig = plt.figure()\n",
    "fig.set_figwidth(20)\n",
    "fig.set_figheight(10)\n",
    "plt.title('Top 10 Players With the Most Games Won')\n",
    "plt.xlabel('Player')\n",
    "plt.ylabel('Games Won')\n",
    "plt.bar(names, games_won)"
   ]
  },
  {
   "cell_type": "code",
   "execution_count": 168,
   "id": "44cc163d-c2f6-402d-9ecb-0e0dd4708a50",
   "metadata": {},
   "outputs": [
    {
     "data": {
      "text/plain": [
       "<BarContainer object of 25 artists>"
      ]
     },
     "execution_count": 168,
     "metadata": {},
     "output_type": "execute_result"
    },
    {
     "data": {
      "image/png": "[encoded data removed]",
      "text/plain": [
       "<Figure size 1440x720 with 1 Axes>"
      ]
     },
     "metadata": {
      "needs_background": "light"
     },
     "output_type": "display_data"
    }
   ],
   "source": [
    "# Peak age for tennis player \n",
    "\n",
    "age_dict = {}\n",
    "\n",
    "for rank, row in table.iterrows():\n",
    "    k = table.at[rank, 'w_age']\n",
    "    if k in age_dict:\n",
    "        age_dict[k] = age_dict[k] + 1\n",
    "    else:\n",
    "        age_dict[k] = 1\n",
    "        \n",
    "# sorting dictionary by ages\n",
    "age_dict = dict((sorted(age_dict.items(), key = lambda item: item[0])))\n",
    "\n",
    "ages = list(age_dict.keys())\n",
    "games_won_at_age = list(age_dict.values())\n",
    "\n",
    "# formatting bar graph\n",
    "fig = plt.figure()\n",
    "fig.set_figwidth(20)\n",
    "fig.set_figheight(10)\n",
    "plt.title('Players Ages vs Games Won')\n",
    "plt.xlabel('Age at Win')\n",
    "plt.ylabel('Games Won at that Age')\n",
    "plt.xticks(np.arange(min(ages), max(ages)+1, 1.0))\n",
    "plt.bar(ages, games_won_at_age)"
   ]
  },
  {
   "cell_type": "code",
   "execution_count": 193,
   "id": "00e5649b-84b1-4df5-8830-1045c1a94403",
   "metadata": {},
   "outputs": [
    {
     "data": {
      "text/plain": [
       "<BarContainer object of 3 artists>"
      ]
     },
     "execution_count": 193,
     "metadata": {},
     "output_type": "execute_result"
    },
    {
     "data": {
      "image/png": "[encoded data removed]",
      "text/plain": [
       "<Figure size 432x432 with 1 Axes>"
      ]
     },
     "metadata": {
      "needs_background": "light"
     },
     "output_type": "display_data"
    }
   ],
   "source": [
    "# On which surface do games last the longest\n",
    "\n",
    "hard = np.array([])\n",
    "grass = np.array([])\n",
    "clay = np.array([])\n",
    "\n",
    "for rank, row in table.iterrows():\n",
    "    if not np.isnan(table.at[rank, 'minutes']):\n",
    "        if table.at[rank, 'surface'] == 'Hard':\n",
    "            hard = np.append(hard, table.at[rank, 'minutes'])\n",
    "        elif table.at[rank, 'surface'] == 'Grass':\n",
    "            grass = np.append(grass, table.at[rank, 'minutes'])\n",
    "        elif table.at[rank, 'surface'] == 'Clay':\n",
    "            clay = np.append(clay,  table.at[rank, 'minutes'])\n",
    "        \n",
    "\n",
    "mean_hard = np.mean(hard)\n",
    "mean_grass = np.mean(grass)\n",
    "mean_clay = np.mean(clay)\n",
    "\n",
    "x = ['Hard', 'Grass', 'Clay']\n",
    "y = [mean_hard, mean_grass, mean_clay]\n",
    "\n",
    "# formatting bar graph\n",
    "fig = plt.figure()\n",
    "fig.set_figwidth(6)\n",
    "fig.set_figheight(6)\n",
    "plt.title('Average time per game on different courts')\n",
    "plt.xlabel('Court Type')\n",
    "plt.ylabel('Average Minutes per Game')\n",
    "plt.bar(x, y)"
   ]
  },
  {
   "cell_type": "code",
   "execution_count": 212,
   "id": "d89002ca-d96c-4286-814d-4ae366f08ec6",
   "metadata": {},
   "outputs": [
    {
     "data": {
      "image/png": "[encoded data removed]",
      "text/plain": [
       "<Figure size 432x432 with 1 Axes>"
      ]
     },
     "metadata": {
      "needs_background": "light"
     },
     "output_type": "display_data"
    }
   ],
   "source": [
    "# winner age vs game time scatter plot\n",
    "\n",
    "age = np.array([])\n",
    "game_time = np.array([])\n",
    "\n",
    "for rank, row in table.iterrows():\n",
    "    if not np.isnan(table.at[rank, 'minutes']):\n",
    "        age = np.append(age, table.at[rank, 'w_age'])\n",
    "        game_time = np.append(game_time, table.at[rank, 'minutes'])\n",
    "        \n",
    "# line of fit\n",
    "\n",
    "model = np.poly1d(np.polyfit(age, game_time, 2))\n",
    "line = np.linspace(15, 42, 50)\n",
    "                              \n",
    "# formatting scatter plot\n",
    "fig = plt.figure()\n",
    "fig.set_figwidth(6)\n",
    "fig.set_figheight(6)\n",
    "plt.title('Age of Player vs Game Time')\n",
    "plt.xlabel('Age of Player')\n",
    "plt.ylabel('Minutes of Game')\n",
    "plt.scatter(age, game_time)\n",
    "plt.plot(line, model(line), color = 'red')\n",
    "plt.show()"
   ]
  },
  {
   "cell_type": "code",
   "execution_count": 60,
   "id": "7cdab13b-309b-4455-9397-52ee55b548fc",
   "metadata": {},
   "outputs": [],
   "source": [
    "# Best player for each surface"
   ]
  },
  {
   "cell_type": "code",
   "execution_count": 194,
   "id": "b36d5a05-d499-46ad-a25b-b353d30ea136",
   "metadata": {},
   "outputs": [],
   "source": [
    "# Which hand has the higher percentage of wins"
   ]
  },
  {
   "cell_type": "code",
   "execution_count": null,
   "id": "366639ec-60a1-4c1f-aa09-62878a1c3f13",
   "metadata": {},
   "outputs": [],
   "source": [
    "# Average minutes per game"
   ]
  }
 ],
 "metadata": {
  "kernelspec": {
   "display_name": "Python 3 (ipykernel)",
   "language": "python",
   "name": "python3"
  },
  "language_info": {
   "codemirror_mode": {
    "name": "ipython",
    "version": 3
   },
   "file_extension": ".py",
   "mimetype": "text/x-python",
   "name": "python",
   "nbconvert_exporter": "python",
   "pygments_lexer": "ipython3",
   "version": "3.9.7"
  }
 },
 "nbformat": 4,
 "nbformat_minor": 5
}
